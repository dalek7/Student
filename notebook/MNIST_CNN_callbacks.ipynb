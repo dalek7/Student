{
 "cells": [
  {
   "cell_type": "code",
   "execution_count": 1,
   "metadata": {},
   "outputs": [],
   "source": [
    "import os\n",
    "os.environ[\"CUDA_DEVICE_ORDER\"]=\"PCI_BUS_ID\"\n",
    "os.environ[\"CUDA_VISIBLE_DEVICES\"]=\"{}\".format(0)"
   ]
  },
  {
   "cell_type": "code",
   "execution_count": 2,
   "metadata": {},
   "outputs": [],
   "source": [
    "import warnings\n",
    "warnings.filterwarnings('ignore')"
   ]
  },
  {
   "cell_type": "code",
   "execution_count": 3,
   "metadata": {},
   "outputs": [
    {
     "name": "stderr",
     "output_type": "stream",
     "text": [
      "Using TensorFlow backend.\n"
     ]
    }
   ],
   "source": [
    "import keras\n",
    "from keras.datasets import mnist\n",
    "from keras.models import Sequential\n",
    "from keras.layers import Dense, Dropout, Flatten\n",
    "from keras.layers import Conv2D, MaxPooling2D\n",
    "from keras import backend as K\n",
    "import matplotlib.pyplot as plt"
   ]
  },
  {
   "cell_type": "markdown",
   "metadata": {},
   "source": [
    "Hyper parameters"
   ]
  },
  {
   "cell_type": "code",
   "execution_count": 4,
   "metadata": {},
   "outputs": [],
   "source": [
    "batch_size = 128\n",
    "num_classes = 10\n",
    "epochs = 12"
   ]
  },
  {
   "cell_type": "code",
   "execution_count": 5,
   "metadata": {},
   "outputs": [],
   "source": [
    "# input image dimensions\n",
    "img_rows, img_cols = 28, 28\n",
    "\n",
    "# the data, split between train and test sets\n",
    "(x_train, y_train), (x_test, y_test) = mnist.load_data()"
   ]
  },
  {
   "cell_type": "code",
   "execution_count": 6,
   "metadata": {},
   "outputs": [
    {
     "name": "stdout",
     "output_type": "stream",
     "text": [
      "channels_last\n"
     ]
    }
   ],
   "source": [
    "print(K.image_data_format())"
   ]
  },
  {
   "cell_type": "code",
   "execution_count": 7,
   "metadata": {},
   "outputs": [],
   "source": [
    "if K.image_data_format() == 'channels_first':\n",
    "    x_train = x_train.reshape(x_train.shape[0], 1, img_rows, img_cols)\n",
    "    x_test = x_test.reshape(x_test.shape[0], 1, img_rows, img_cols)\n",
    "    input_shape = (1, img_rows, img_cols)\n",
    "else:\n",
    "    x_train = x_train.reshape(x_train.shape[0], img_rows, img_cols, 1)\n",
    "    x_test = x_test.reshape(x_test.shape[0], img_rows, img_cols, 1)\n",
    "    input_shape = (img_rows, img_cols, 1)"
   ]
  },
  {
   "cell_type": "code",
   "execution_count": 8,
   "metadata": {},
   "outputs": [
    {
     "name": "stdout",
     "output_type": "stream",
     "text": [
      "x_train shape: (60000, 28, 28, 1)\n",
      "60000 train samples\n",
      "10000 test samples\n"
     ]
    }
   ],
   "source": [
    "x_train = x_train.astype('float32')\n",
    "x_test = x_test.astype('float32')\n",
    "x_train /= 255\n",
    "x_test /= 255\n",
    "print('x_train shape:', x_train.shape)\n",
    "print(x_train.shape[0], 'train samples')\n",
    "print(x_test.shape[0], 'test samples')\n",
    "\n",
    "# convert class vectors to binary class matrices\n",
    "y_train = keras.utils.to_categorical(y_train, num_classes)\n",
    "y_test = keras.utils.to_categorical(y_test, num_classes)"
   ]
  },
  {
   "cell_type": "code",
   "execution_count": 9,
   "metadata": {},
   "outputs": [
    {
     "name": "stdout",
     "output_type": "stream",
     "text": [
      "(60000, 28, 28, 1)\n",
      "(60000, 10)\n"
     ]
    }
   ],
   "source": [
    "print(x_train.shape)\n",
    "print(y_train.shape)"
   ]
  },
  {
   "cell_type": "code",
   "execution_count": 10,
   "metadata": {},
   "outputs": [
    {
     "name": "stdout",
     "output_type": "stream",
     "text": [
      "(10000, 28, 28, 1)\n",
      "(10000, 10)\n"
     ]
    }
   ],
   "source": [
    "print(x_test.shape)\n",
    "print(y_test.shape)"
   ]
  },
  {
   "cell_type": "code",
   "execution_count": 11,
   "metadata": {},
   "outputs": [
    {
     "name": "stdout",
     "output_type": "stream",
     "text": [
      "_________________________________________________________________\n",
      "Layer (type)                 Output Shape              Param #   \n",
      "=================================================================\n",
      "conv2d_1 (Conv2D)            (None, 26, 26, 32)        320       \n",
      "_________________________________________________________________\n",
      "conv2d_2 (Conv2D)            (None, 24, 24, 64)        18496     \n",
      "_________________________________________________________________\n",
      "max_pooling2d_1 (MaxPooling2 (None, 12, 12, 64)        0         \n",
      "_________________________________________________________________\n",
      "dropout_1 (Dropout)          (None, 12, 12, 64)        0         \n",
      "_________________________________________________________________\n",
      "flatten_1 (Flatten)          (None, 9216)              0         \n",
      "_________________________________________________________________\n",
      "dense_1 (Dense)              (None, 128)               1179776   \n",
      "_________________________________________________________________\n",
      "dropout_2 (Dropout)          (None, 128)               0         \n",
      "_________________________________________________________________\n",
      "dense_2 (Dense)              (None, 10)                1290      \n",
      "=================================================================\n",
      "Total params: 1,199,882\n",
      "Trainable params: 1,199,882\n",
      "Non-trainable params: 0\n",
      "_________________________________________________________________\n"
     ]
    }
   ],
   "source": [
    "model = Sequential()\n",
    "model.add(Conv2D(32, kernel_size=(3, 3),\n",
    "                 activation='relu',\n",
    "                 input_shape=input_shape))\n",
    "model.add(Conv2D(64, (3, 3), activation='relu'))\n",
    "model.add(MaxPooling2D(pool_size=(2, 2)))\n",
    "model.add(Dropout(0.25))\n",
    "model.add(Flatten())\n",
    "model.add(Dense(128, activation='relu'))\n",
    "model.add(Dropout(0.5))\n",
    "model.add(Dense(num_classes, activation='softmax'))\n",
    "model.summary()"
   ]
  },
  {
   "cell_type": "code",
   "execution_count": 12,
   "metadata": {},
   "outputs": [],
   "source": [
    "model.compile(loss=keras.losses.categorical_crossentropy,\n",
    "              optimizer=keras.optimizers.Adadelta(),\n",
    "              metrics=['accuracy'])"
   ]
  },
  {
   "cell_type": "markdown",
   "metadata": {},
   "source": [
    "Keras callback 함수 이용하기"
   ]
  },
  {
   "cell_type": "code",
   "execution_count": 13,
   "metadata": {},
   "outputs": [],
   "source": [
    "#from tensorflow.keras.callbacks import Callback\n",
    "from keras.callbacks import Callback\n",
    "from keras import backend as K\n",
    "\n",
    "vloss = []\n",
    "vacc = []\n",
    "class NBatchLogger(Callback):\n",
    "\n",
    "    def __init__(self, display):\n",
    "        #self.step = 0\n",
    "        self.display = display\n",
    "        #self.metric_cache = {}\n",
    "\n",
    "    #epoch 마다 learning rate 값 출력 \n",
    "    def on_epoch_end(self, epoch, logs=None):\n",
    "        if self.display==1:\n",
    "            print('aaaaa')\n",
    "        global vloss\n",
    "        global vacc\n",
    "\n",
    "        vloss.append(logs['loss'])\n",
    "        vacc.append(logs['acc'])\n",
    "        "
   ]
  },
  {
   "cell_type": "code",
   "execution_count": 14,
   "metadata": {},
   "outputs": [],
   "source": [
    "nbatch_logging = NBatchLogger(display=1)"
   ]
  },
  {
   "cell_type": "code",
   "execution_count": 15,
   "metadata": {},
   "outputs": [
    {
     "name": "stdout",
     "output_type": "stream",
     "text": [
      "Train on 60000 samples, validate on 10000 samples\n",
      "Epoch 1/12\n",
      "59392/60000 [============================>.] - ETA: 0s - loss: 0.3218 - acc: 0.9013aaaaa\n",
      "60000/60000 [==============================] - 7s 113us/step - loss: 0.3198 - acc: 0.9019 - val_loss: 0.0760 - val_acc: 0.9764\n",
      "Epoch 2/12\n",
      "59392/60000 [============================>.] - ETA: 0s - loss: 0.1117 - acc: 0.9666aaaaa\n",
      "60000/60000 [==============================] - 4s 64us/step - loss: 0.1118 - acc: 0.9666 - val_loss: 0.0520 - val_acc: 0.9823\n",
      "Epoch 3/12\n",
      "59648/60000 [============================>.] - ETA: 0s - loss: 0.0882 - acc: 0.9744aaaaa\n",
      "60000/60000 [==============================] - 4s 65us/step - loss: 0.0880 - acc: 0.9745 - val_loss: 0.0438 - val_acc: 0.9853\n",
      "Epoch 4/12\n",
      "59520/60000 [============================>.] - ETA: 0s - loss: 0.0712 - acc: 0.9784aaaaa\n",
      "60000/60000 [==============================] - 4s 64us/step - loss: 0.0711 - acc: 0.9785 - val_loss: 0.0436 - val_acc: 0.9860\n",
      "Epoch 5/12\n",
      "59392/60000 [============================>.] - ETA: 0s - loss: 0.0629 - acc: 0.9818aaaaa\n",
      "60000/60000 [==============================] - 4s 64us/step - loss: 0.0626 - acc: 0.9819 - val_loss: 0.0377 - val_acc: 0.9877\n",
      "Epoch 6/12\n",
      "59264/60000 [============================>.] - ETA: 0s - loss: 0.0551 - acc: 0.9838aaaaa\n",
      "60000/60000 [==============================] - 4s 65us/step - loss: 0.0553 - acc: 0.9838 - val_loss: 0.0350 - val_acc: 0.9875\n",
      "Epoch 7/12\n",
      "59136/60000 [============================>.] - ETA: 0s - loss: 0.0505 - acc: 0.9845aaaaa\n",
      "60000/60000 [==============================] - 4s 65us/step - loss: 0.0505 - acc: 0.9846 - val_loss: 0.0326 - val_acc: 0.9894\n",
      "Epoch 8/12\n",
      "59648/60000 [============================>.] - ETA: 0s - loss: 0.0468 - acc: 0.9863aaaaa\n",
      "60000/60000 [==============================] - 4s 65us/step - loss: 0.0468 - acc: 0.9863 - val_loss: 0.0313 - val_acc: 0.9896\n",
      "Epoch 9/12\n",
      "59648/60000 [============================>.] - ETA: 0s - loss: 0.0442 - acc: 0.9866aaaaa\n",
      "60000/60000 [==============================] - 4s 65us/step - loss: 0.0442 - acc: 0.9866 - val_loss: 0.0297 - val_acc: 0.9901\n",
      "Epoch 10/12\n",
      "59136/60000 [============================>.] - ETA: 0s - loss: 0.0421 - acc: 0.9875aaaaa\n",
      "60000/60000 [==============================] - 4s 65us/step - loss: 0.0420 - acc: 0.9875 - val_loss: 0.0322 - val_acc: 0.9899\n",
      "Epoch 11/12\n",
      "59904/60000 [============================>.] - ETA: 0s - loss: 0.0387 - acc: 0.9883aaaaa\n",
      "60000/60000 [==============================] - 4s 65us/step - loss: 0.0387 - acc: 0.9883 - val_loss: 0.0293 - val_acc: 0.9901\n",
      "Epoch 12/12\n",
      "59904/60000 [============================>.] - ETA: 0s - loss: 0.0351 - acc: 0.9891aaaaa\n",
      "60000/60000 [==============================] - 4s 65us/step - loss: 0.0351 - acc: 0.9891 - val_loss: 0.0294 - val_acc: 0.9897\n"
     ]
    },
    {
     "data": {
      "text/plain": [
       "<keras.callbacks.History at 0x7f4e63c23080>"
      ]
     },
     "execution_count": 15,
     "metadata": {},
     "output_type": "execute_result"
    }
   ],
   "source": [
    "model.fit(x_train, y_train,\n",
    "          batch_size=batch_size,\n",
    "          epochs=epochs,\n",
    "          verbose=1,\n",
    "          validation_data=(x_test, y_test),\n",
    "          callbacks=[nbatch_logging])"
   ]
  },
  {
   "cell_type": "code",
   "execution_count": 16,
   "metadata": {},
   "outputs": [
    {
     "name": "stdout",
     "output_type": "stream",
     "text": [
      "Train loss: 0.015571206274513194\n",
      "Train accuracy: 0.99535\n"
     ]
    }
   ],
   "source": [
    "score = model.evaluate(x_train, y_train, verbose=0)\n",
    "print('Train loss:', score[0])\n",
    "print('Train accuracy:', score[1])"
   ]
  },
  {
   "cell_type": "code",
   "execution_count": 17,
   "metadata": {},
   "outputs": [
    {
     "name": "stdout",
     "output_type": "stream",
     "text": [
      "Test loss: 0.02944926852975186\n",
      "Test accuracy: 0.9897\n"
     ]
    }
   ],
   "source": [
    "score = model.evaluate(x_test, y_test, verbose=0)\n",
    "print('Test loss:', score[0])\n",
    "print('Test accuracy:', score[1])"
   ]
  },
  {
   "cell_type": "code",
   "execution_count": 18,
   "metadata": {},
   "outputs": [
    {
     "data": {
      "text/plain": [
       "Text(0.5,1,'Loss')"
      ]
     },
     "execution_count": 18,
     "metadata": {},
     "output_type": "execute_result"
    },
    {
     "data": {
      "image/png": "[encoded data removed]",
      "text/plain": [
       "<Figure size 432x288 with 1 Axes>"
      ]
     },
     "metadata": {},
     "output_type": "display_data"
    }
   ],
   "source": [
    "plt.plot(vloss)\n",
    "plt.title('Loss')"
   ]
  },
  {
   "cell_type": "code",
   "execution_count": 19,
   "metadata": {},
   "outputs": [
    {
     "data": {
      "text/plain": [
       "Text(0.5,1,'Accuracy (training)')"
      ]
     },
     "execution_count": 19,
     "metadata": {},
     "output_type": "execute_result"
    },
    {
     "data": {
      "image/png": "[encoded data removed]",
      "text/plain": [
       "<Figure size 432x288 with 1 Axes>"
      ]
     },
     "metadata": {},
     "output_type": "display_data"
    }
   ],
   "source": [
    "plt.plot(vacc)\n",
    "plt.title('Accuracy (training)')"
   ]
  },
  {
   "cell_type": "markdown",
   "metadata": {},
   "source": [
    "#### Reference\n",
    "* MNIST_CNN https://keras.io/examples/mnist_cnn/"
   ]
  }
 ],
 "metadata": {
  "kernelspec": {
   "display_name": "Py35_keras",
   "language": "python",
   "name": "py35_keras"
  },
  "language_info": {
   "codemirror_mode": {
    "name": "ipython",
    "version": 3
   },
   "file_extension": ".py",
   "mimetype": "text/x-python",
   "name": "python",
   "nbconvert_exporter": "python",
   "pygments_lexer": "ipython3",
   "version": "3.5.2"
  }
 },
 "nbformat": 4,
 "nbformat_minor": 2
}
